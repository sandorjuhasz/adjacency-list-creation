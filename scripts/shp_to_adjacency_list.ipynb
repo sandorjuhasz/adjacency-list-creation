{
 "cells": [
  {
   "cell_type": "markdown",
   "source": [
    "## Adjacency list construction -- example : EU NUTS2 regions\n",
    "shp download : https://ec.europa.eu/eurostat/web/gisco/geodata/reference-data/administrative-units-statistical-units/nuts <br>\n",
    "original idea developed by Eszter Bokányi (bokae on github)"
   ],
   "metadata": {}
  },
  {
   "cell_type": "code",
   "execution_count": 1,
   "source": [
    "import geopandas as gpd\n",
    "import matplotlib.pyplot as plt"
   ],
   "outputs": [],
   "metadata": {}
  },
  {
   "cell_type": "code",
   "execution_count": 2,
   "source": [
    "# NUTS-3 level shapefile\n",
    "map_df = gpd.read_file('../data/shapefile/NUTS_RG_10M_2016_3035.shp')\n",
    "\n",
    "# FILTER for NUTS-2\n",
    "map_df = map_df[map_df['LEVL_CODE']<3]\n",
    "\n",
    "# keep 4-digit region codes\n",
    "map_df['digits'] = map_df['NUTS_ID'].apply(lambda x: len(x))\n",
    "map_df = map_df[map_df['digits'] == 4]"
   ],
   "outputs": [],
   "metadata": {}
  },
  {
   "cell_type": "code",
   "execution_count": 3,
   "source": [
    "# create a spatial index for faster join\n",
    "map_df[\"buffered_geometry\"] = map_df.buffer(250)\n",
    "si = map_df.set_geometry(\"buffered_geometry\").sindex"
   ],
   "outputs": [],
   "metadata": {}
  },
  {
   "cell_type": "code",
   "execution_count": 4,
   "source": [
    "# possible matches based on spatial index\n",
    "map_df[\"possible_matches\"] = map_df.buffer(250).map(lambda p: list(si.intersection(p.bounds)))\n",
    "\n",
    "# exact matches calculated only for possible matches, excluding the polygon in question\n",
    "map_df[\"neighbors\"] = map_df.apply(lambda row: [map_df.index[e] for e in row[\"possible_matches\"] if row[\"buffered_geometry\"].intersects(map_df[\"buffered_geometry\"].iloc[e]) and map_df.index[e]!=row.name], axis=1)"
   ],
   "outputs": [],
   "metadata": {}
  },
  {
   "cell_type": "code",
   "execution_count": 5,
   "source": [
    "# construct the final dataframe\n",
    "adj_df = map_df.loc[:,['NUTS_ID', 'neighbors']].dropna()\n",
    "adj_df = adj_df[adj_df['neighbors'].map(len) >0]\n",
    "adj_df = adj_df.explode('neighbors')\n",
    "adj_df['neighbors'] = adj_df['neighbors'].map(map_df['NUTS_ID'].to_dict())"
   ],
   "outputs": [],
   "metadata": {}
  },
  {
   "cell_type": "code",
   "execution_count": 6,
   "source": [
    "# save the final adjacency list\n",
    "adj_df.to_csv('../data/adj_list_NUTS2.csv', sep=';', index=False)"
   ],
   "outputs": [],
   "metadata": {}
  }
 ],
 "metadata": {
  "kernelspec": {
   "name": "python3",
   "display_name": "Python 3.9.1 64-bit"
  },
  "language_info": {
   "codemirror_mode": {
    "name": "ipython",
    "version": 3
   },
   "file_extension": ".py",
   "mimetype": "text/x-python",
   "name": "python",
   "nbconvert_exporter": "python",
   "pygments_lexer": "ipython3",
   "version": "3.9.1"
  },
  "interpreter": {
   "hash": "aee8b7b246df8f9039afb4144a1f6fd8d2ca17a180786b69acc140d282b71a49"
  }
 },
 "nbformat": 4,
 "nbformat_minor": 2
}